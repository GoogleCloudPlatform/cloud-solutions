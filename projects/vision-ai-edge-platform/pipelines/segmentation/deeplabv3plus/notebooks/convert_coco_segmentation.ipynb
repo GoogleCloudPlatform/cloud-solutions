{
 "cells": [
  {
   "cell_type": "markdown",
   "metadata": {
    "id": "yky13k5-MpJQ"
   },
   "source": [
    "# Convert COCO Segmentation Dataset to Vertex AI Segmentation\n",
    "\n",
    "Contributors: michaelmenzel@google.com"
   ]
  },
  {
   "cell_type": "code",
   "execution_count": null,
   "metadata": {},
   "outputs": [],
   "source": [
    "\"\"\"\n",
    "Copyright 2024 Google LLC\n",
    "\n",
    "Licensed under the Apache License, Version 2.0 (the \"License\");\n",
    "you may not use this file except in compliance with the License.\n",
    "You may obtain a copy of the License at\n",
    "\n",
    "    https://www.apache.org/licenses/LICENSE-2.0\n",
    "\n",
    "Unless required by applicable law or agreed to in writing, software\n",
    "distributed under the License is distributed on an \"AS IS\" BASIS,\n",
    "WITHOUT WARRANTIES OR CONDITIONS OF ANY KIND, either express or implied.\n",
    "See the License for the specific language governing permissions and\n",
    "limitations under the License.\n",
    "\"\"\""
   ]
  },
  {
   "cell_type": "code",
   "execution_count": null,
   "metadata": {
    "cellView": "form",
    "id": "U1_Pz3T4gPky"
   },
   "outputs": [],
   "source": [
    "# @title Parameters & Authenticate\n",
    "ANNOTATION_FILE = \"gs://visual-inspection-demo-datasets-us-central1/car-damage-coco-segmentation-kaggle/train/COCO_train_annos.json\"  # @param {type:\"string\"}\n",
    "TARGET_BUCKET = \"gs://visual-inspection-demo-datasets-us-central1/car-damage-coco-segmentation-kaggle/train\"  # @param {type:\"string\"}\n",
    "\n",
    "import sys\n",
    "\n",
    "if \"google.colab\" in sys.modules:\n",
    "    from google.colab import auth as google_auth\n",
    "\n",
    "    google_auth.authenticate_user()"
   ]
  },
  {
   "cell_type": "code",
   "execution_count": null,
   "metadata": {
    "cellView": "form",
    "colab": {
     "base_uri": "https://localhost:8080/"
    },
    "id": "I14kn32rxX5w",
    "outputId": "0c5f243b-aff7-4267-c3f7-bbfbd8a0ae68"
   },
   "outputs": [],
   "source": [
    "# @title Load Annotations\n",
    "!gsutil cp $ANNOTATION_FILE .\n",
    "\n",
    "import json\n",
    "import os\n",
    "\n",
    "with open(ANNOTATION_FILE.split(os.sep)[-1], \"r\") as af:\n",
    "    data = json.load(af)"
   ]
  },
  {
   "cell_type": "code",
   "execution_count": null,
   "metadata": {
    "cellView": "form",
    "id": "pKtahUNzNv6R"
   },
   "outputs": [],
   "source": [
    "# @title Helpers\n",
    "import io\n",
    "\n",
    "import numpy as np\n",
    "from google.cloud import storage\n",
    "from PIL import Image\n",
    "\n",
    "\n",
    "def get_gcs_image_size(image_url):\n",
    "    \"\"\"Get the size of an image in Google Cloud Storage.\n",
    "\n",
    "    Args:\n",
    "      image_url: The gs:// url of the image.\n",
    "\n",
    "    Returns:\n",
    "      A tuple containing the width and height of the image in pixels.\n",
    "    \"\"\"\n",
    "\n",
    "    # Initialize client that will be used to send requests. This client only needs to be created\n",
    "    # once, and can be reused for multiple requests.\n",
    "    storage_client = storage.Client()\n",
    "\n",
    "    # Get the image from the bucket.\n",
    "    bucket = storage_client.bucket(image_url.split(\"//\")[1].split(\"/\")[0])\n",
    "    blob = bucket.blob(\"/\".join(image_url.split(\"//\")[1].split(\"/\")[1:]))\n",
    "    image_bytes = blob.download_as_bytes()\n",
    "\n",
    "    # Open the image using Pillow.\n",
    "    image = Image.open(io.BytesIO(image_bytes))\n",
    "\n",
    "    # Return the width and height of the image.\n",
    "    return image.size\n",
    "\n",
    "\n",
    "def construct_img_path(img):\n",
    "    return os.path.join(os.path.dirname(ANNOTATION_FILE), img)\n",
    "\n",
    "\n",
    "def clip_float(float_nbr, min_val=0, max_val=1):\n",
    "    return max(min(float_nbr, max_val), min_val)\n",
    "\n",
    "\n",
    "def format_float(float_nbr, precision=7):\n",
    "    return float(np.format_float_positional(float_nbr, precision=precision))"
   ]
  },
  {
   "cell_type": "code",
   "execution_count": null,
   "metadata": {
    "cellView": "form",
    "colab": {
     "base_uri": "https://localhost:8080/"
    },
    "id": "3_Efnl6CyxVE",
    "outputId": "297add10-14ca-4f46-cc45-34a1af8f506f"
   },
   "outputs": [],
   "source": [
    "# @title Convert Annotations\n",
    "\n",
    "\n",
    "from tqdm import tqdm\n",
    "\n",
    "vai_annotations = []\n",
    "image_annotations = {\n",
    "    construct_img_path(img[\"file_name\"]): [] for img in data[\"images\"]\n",
    "}\n",
    "\n",
    "for annot in data[\"annotations\"]:\n",
    "    image = construct_img_path(data[\"images\"][annot[\"image_id\"]][\"file_name\"])\n",
    "    image_annotations[image].append(annot)\n",
    "\n",
    "category_names = [cat[\"name\"] for cat in data[\"categories\"]]\n",
    "\n",
    "for img, annot in tqdm(image_annotations.items()):\n",
    "    width, height = get_gcs_image_size(img)\n",
    "    vai_annotations.append(\n",
    "        {\n",
    "            \"imageGcsUri\": img,\n",
    "            \"polygonAnnotations\": [\n",
    "                {\n",
    "                    \"displayName\": category_names[ann[\"category_id\"] - 1],\n",
    "                    \"vertexes\": [\n",
    "                        {\n",
    "                            \"x\": clip_float(x / width),\n",
    "                            \"y\": clip_float(y / height),\n",
    "                        }\n",
    "                        for x, y in zip(\n",
    "                            ann[\"segmentation\"][0][::2],\n",
    "                            ann[\"segmentation\"][0][1::2],\n",
    "                        )\n",
    "                    ],\n",
    "                }\n",
    "                for ann in annot\n",
    "            ],\n",
    "        }\n",
    "    )\n",
    "\n",
    "vai_annotations"
   ]
  },
  {
   "cell_type": "code",
   "execution_count": null,
   "metadata": {
    "cellView": "form",
    "colab": {
     "base_uri": "https://localhost:8080/"
    },
    "id": "8nuy67hm1QZK",
    "outputId": "9615dd5f-cbc7-4097-90fd-3b8e1c478f3d"
   },
   "outputs": [],
   "source": [
    "# @title Store Annotations\n",
    "with open(\"vertexai_car_damage_segmentation_polygon.jsonl\", \"w\") as of:\n",
    "    for l in vai_annotations:\n",
    "        json.dump(l, of)\n",
    "        of.write(\"\\n\")\n",
    "\n",
    "!gsutil cp 'vertexai_car_damage_segmentation_polygon.jsonl' $TARGET_BUCKET"
   ]
  }
 ],
 "metadata": {
  "colab": {
   "provenance": []
  },
  "kernelspec": {
   "display_name": "Python 3",
   "name": "python3"
  },
  "language_info": {
   "name": "python"
  }
 },
 "nbformat": 4,
 "nbformat_minor": 0
}
