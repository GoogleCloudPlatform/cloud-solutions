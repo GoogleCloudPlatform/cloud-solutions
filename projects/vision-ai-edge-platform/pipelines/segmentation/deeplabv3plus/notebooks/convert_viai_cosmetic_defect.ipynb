{
  "cells": [
    {
      "cell_type": "markdown",
      "metadata": {
        "id": "yky13k5-MpJQ"
      },
      "source": [
        "# Convert VIAI Cosmetic Defect Dataset to Vertex AI Segmentation\n",
        "\n",
        "Contributors: michaelmenzel@google.com"
      ]
    },
    {
      "cell_type": "code",
      "execution_count": null,
      "metadata": {},
      "outputs": [],
      "source": [
        "\"\"\"\n",
        "Copyright 2024 Google LLC\n",
        "\n",
        "Licensed under the Apache License, Version 2.0 (the \"License\");\n",
        "you may not use this file except in compliance with the License.\n",
        "You may obtain a copy of the License at\n",
        "\n",
        "    https://www.apache.org/licenses/LICENSE-2.0\n",
        "\n",
        "Unless required by applicable law or agreed to in writing, software\n",
        "distributed under the License is distributed on an \"AS IS\" BASIS,\n",
        "WITHOUT WARRANTIES OR CONDITIONS OF ANY KIND, either express or implied.\n",
        "See the License for the specific language governing permissions and\n",
        "limitations under the License.\n",
        "\"\"\""
      ]
    },
    {
      "cell_type": "code",
      "execution_count": null,
      "metadata": {
        "cellView": "form",
        "id": "U1_Pz3T4gPky"
      },
      "outputs": [],
      "source": [
        "#@title Parameters & Authenticate\n",
        "ANNOTATION_FILE = \"gs://viai-demo-data-us-central1/cosmetic-test-data-public/data_with_polygon.jsonl\" # @param {type:\"string\"}\n",
        "TARGET_BUCKET = \"gs://viai-demo-data-us-central1/cosmetic-test-data-public/\" # @param {type:\"string\"}\n",
        "\n",
        "import sys\n",
        "\n",
        "if \"google.colab\" in sys.modules:\n",
        "    from google.colab import auth as google_auth\n",
        "\n",
        "    google_auth.authenticate_user()"
      ]
    },
    {
      "cell_type": "code",
      "execution_count": null,
      "metadata": {
        "cellView": "form",
        "colab": {
          "base_uri": "https://localhost:8080/"
        },
        "id": "I14kn32rxX5w",
        "outputId": "1b3f93f8-4fac-44be-8351-ccdeb7ae1e80"
      },
      "outputs": [],
      "source": [
        "#@title Load Annotations\n",
        "!gcloud storage cp $ANNOTATION_FILE .\n",
        "\n",
        "import json\n",
        "import os\n",
        "\n",
        "with open(ANNOTATION_FILE.split(os.sep)[-1], 'r') as af:\n",
        "  data = [json.loads(line) for line in af]"
      ]
    },
    {
      "cell_type": "code",
      "execution_count": null,
      "metadata": {
        "cellView": "form",
        "colab": {
          "base_uri": "https://localhost:8080/"
        },
        "id": "3_Efnl6CyxVE",
        "outputId": "b3443fe4-24e8-4687-c4dc-28d2a614324e"
      },
      "outputs": [],
      "source": [
        "#@title Convert Annotations\n",
        "\n",
        "from tqdm import tqdm\n",
        "\n",
        "vai_annotations = []\n",
        "\n",
        "for item in tqdm(data):\n",
        "  vai_annotations.append(\n",
        "    {\n",
        "        'imageGcsUri': item['image_gcs_uri'],\n",
        "        'polygonAnnotations': [{\n",
        "            \"displayName\": ann['annotation_spec'],\n",
        "            \"vertexes\": ann['vi_bounding_poly']['vertex']\n",
        "          } for ann in item['vi_annotations']]\n",
        "    })\n",
        "\n",
        "vai_annotations"
      ]
    },
    {
      "cell_type": "code",
      "execution_count": null,
      "metadata": {
        "cellView": "form",
        "colab": {
          "base_uri": "https://localhost:8080/"
        },
        "id": "8nuy67hm1QZK",
        "outputId": "59f32de1-3b05-4c40-e3b5-52d83057479a"
      },
      "outputs": [],
      "source": [
        "#@title Store Annotations\n",
        "with open('vertexai_segmentation_polygon.jsonl', 'w') as of:\n",
        "  for l in vai_annotations:\n",
        "    json.dump(l, of)\n",
        "    of.write('\\n')\n",
        "\n",
        "!gcloud storage cp 'vertexai_segmentation_polygon.jsonl' $TARGET_BUCKET"
      ]
    }
  ],
  "metadata": {
    "colab": {
      "provenance": []
    },
    "kernelspec": {
      "display_name": "Python 3",
      "name": "python3"
    },
    "language_info": {
      "name": "python"
    }
  },
  "nbformat": 4,
  "nbformat_minor": 0
}
